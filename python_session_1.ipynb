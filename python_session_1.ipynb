{
 "cells": [
  {
   "cell_type": "markdown",
   "id": "dc89ea0e",
   "metadata": {},
   "source": [
    "## variable ##"
   ]
  },
  {
   "cell_type": "markdown",
   "id": "e6f6adfd",
   "metadata": {},
   "source": [
    "- variable is used to store a value\n",
    "\n",
    "- variable can change their value\n",
    "\n",
    "- in python latest value\n",
    "\n",
    "- python is a step by step process"
   ]
  },
  {
   "cell_type": "code",
   "execution_count": 1,
   "id": "410118d6",
   "metadata": {},
   "outputs": [
    {
     "data": {
      "text/plain": [
       "10"
      ]
     },
     "execution_count": 1,
     "metadata": {},
     "output_type": "execute_result"
    }
   ],
   "source": [
    "num=10\n",
    "num\n",
    "\n",
    "\n",
    "# comment\n",
    "# bolue 10 stored in variable called 'num'"
   ]
  },
  {
   "cell_type": "code",
   "execution_count": 2,
   "id": "d65ac63c",
   "metadata": {},
   "outputs": [
    {
     "data": {
      "text/plain": [
       "100"
      ]
     },
     "execution_count": 2,
     "metadata": {},
     "output_type": "execute_result"
    }
   ],
   "source": [
    "NUM=100\n",
    "NUM"
   ]
  },
  {
   "cell_type": "code",
   "execution_count": 3,
   "id": "b2581214",
   "metadata": {},
   "outputs": [
    {
     "data": {
      "text/plain": [
       "100"
      ]
     },
     "execution_count": 3,
     "metadata": {},
     "output_type": "execute_result"
    }
   ],
   "source": [
    "NUMber=100\n",
    "NUMber"
   ]
  },
  {
   "cell_type": "code",
   "execution_count": 4,
   "id": "f8c03d10",
   "metadata": {},
   "outputs": [
    {
     "data": {
      "text/plain": [
       "300"
      ]
     },
     "execution_count": 4,
     "metadata": {},
     "output_type": "execute_result"
    }
   ],
   "source": [
    "number123=300\n",
    "number123"
   ]
  },
  {
   "cell_type": "code",
   "execution_count": 5,
   "id": "9e6ba908",
   "metadata": {},
   "outputs": [
    {
     "ename": "SyntaxError",
     "evalue": "cannot assign to expression here. Maybe you meant '==' instead of '='? (2656721176.py, line 1)",
     "output_type": "error",
     "traceback": [
      "\u001b[1;36m  Cell \u001b[1;32mIn[5], line 1\u001b[1;36m\u001b[0m\n\u001b[1;33m    number@one=500\u001b[0m\n\u001b[1;37m    ^\u001b[0m\n\u001b[1;31mSyntaxError\u001b[0m\u001b[1;31m:\u001b[0m cannot assign to expression here. Maybe you meant '==' instead of '='?\n"
     ]
    }
   ],
   "source": [
    "number@one=500\n",
    "number@one"
   ]
  },
  {
   "cell_type": "code",
   "execution_count": 6,
   "id": "171c4847",
   "metadata": {},
   "outputs": [
    {
     "ename": "SyntaxError",
     "evalue": "invalid syntax (1569520581.py, line 1)",
     "output_type": "error",
     "traceback": [
      "\u001b[1;36m  Cell \u001b[1;32mIn[6], line 1\u001b[1;36m\u001b[0m\n\u001b[1;33m    number one=600\u001b[0m\n\u001b[1;37m           ^\u001b[0m\n\u001b[1;31mSyntaxError\u001b[0m\u001b[1;31m:\u001b[0m invalid syntax\n"
     ]
    }
   ],
   "source": [
    "number one=600\n",
    "number one"
   ]
  },
  {
   "cell_type": "markdown",
   "id": "9f6023d2",
   "metadata": {},
   "source": [
    "- variables can cse sensitive\n",
    "\n",
    "- in variable the character must be define\n",
    "\n",
    "- the variable always come first\n",
    "\n",
    "- if number come first in variable it get syntax error\n",
    "\n",
    "- if space comes in between the variable it's get also syntax error\n",
    "\n",
    "- if any special character is use in variable it also get syntax error\n",
    "\n",
    "- only underscore _ can be a variable"
   ]
  },
  {
   "cell_type": "markdown",
   "id": "ff2c3301",
   "metadata": {},
   "source": [
    "### variable"
   ]
  },
  {
   "cell_type": "code",
   "execution_count": 7,
   "id": "8b15fa23",
   "metadata": {},
   "outputs": [],
   "source": [
    "_=800"
   ]
  },
  {
   "cell_type": "code",
   "execution_count": 8,
   "id": "46a1d1dc",
   "metadata": {},
   "outputs": [
    {
     "data": {
      "text/plain": [
       "800"
      ]
     },
     "execution_count": 8,
     "metadata": {},
     "output_type": "execute_result"
    }
   ],
   "source": [
    "_"
   ]
  },
  {
   "cell_type": "code",
   "execution_count": 9,
   "id": "cda44194",
   "metadata": {},
   "outputs": [
    {
     "data": {
      "text/plain": [
       "1000"
      ]
     },
     "execution_count": 9,
     "metadata": {},
     "output_type": "execute_result"
    }
   ],
   "source": [
    "a_s_a_d=1000\n",
    "a_s_a_d"
   ]
  },
  {
   "cell_type": "markdown",
   "id": "54d6bf66",
   "metadata": {},
   "source": [
    "- variable are case sensitive\n",
    "\n",
    "- variable can be capital and non-capital\n",
    "\n",
    "- variable does not allow spl character except underscore\n",
    "\n",
    "- only underscore_ can be a variable\n",
    "\n",
    "- variable does not constain space between the words\n",
    "\n",
    "- variable can not contain number as prefix ex:123num\n",
    "\n",
    "- variable can have numbers as sufflix ex: num123\n",
    "\n",
    "- variables does not contain any keyword"
   ]
  },
  {
   "cell_type": "code",
   "execution_count": null,
   "id": "ef5eb5a4",
   "metadata": {},
   "outputs": [],
   "source": []
  }
 ],
 "metadata": {
  "kernelspec": {
   "display_name": "Python 3 (ipykernel)",
   "language": "python",
   "name": "python3"
  },
  "language_info": {
   "codemirror_mode": {
    "name": "ipython",
    "version": 3
   },
   "file_extension": ".py",
   "mimetype": "text/x-python",
   "name": "python",
   "nbconvert_exporter": "python",
   "pygments_lexer": "ipython3",
   "version": "3.11.7"
  }
 },
 "nbformat": 4,
 "nbformat_minor": 5
}
